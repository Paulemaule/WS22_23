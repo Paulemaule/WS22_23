{
 "cells": [
  {
   "cell_type": "code",
   "execution_count": 1,
   "metadata": {},
   "outputs": [],
   "source": [
    "import numpy as np\n",
    "import matplotlib.pyplot as plt\n",
    "import sympy"
   ]
  },
  {
   "cell_type": "markdown",
   "metadata": {},
   "source": [
    "# Sheet 3\n",
    "by: Anton Eberhardt and Paul Zürn\n",
    "## Task 1\n",
    "### 1.1\n",
    "To use the linearization technique we need to first compute the Jacobian of the dynamical system at the fixed point."
   ]
  },
  {
   "cell_type": "code",
   "execution_count": 15,
   "metadata": {},
   "outputs": [
    {
     "name": "stdout",
     "output_type": "stream",
     "text": [
      "a \\left(x^{2} + y^{2}\\right) + 2 x \\left(a x - y\\right)\n",
      "- x^{2} - y^{2} + 2 y \\left(a x - y\\right) - 1\n",
      "x^{2} + 2 x \\left(a y + x\\right) + y^{2} + 1\n",
      "a \\left(x^{2} + y^{2}\\right) + 2 y \\left(a y + x\\right)\n"
     ]
    }
   ],
   "source": [
    "x, y, a = sympy.symbols('x y a')\n",
    "\n",
    "x_dot = -y + (a*x - y) * (x**2 + y**2)\n",
    "y_dot = x + (x + a*y) * (x**2 + y**2)\n",
    "\n",
    "print(sympy.latex(sympy.diff(x_dot, x)))\n",
    "print(sympy.latex(sympy.diff(x_dot, y)))\n",
    "print(sympy.latex(sympy.diff(y_dot, x)))\n",
    "print(sympy.latex(sympy.diff(y_dot, y)))"
   ]
  },
  {
   "cell_type": "markdown",
   "metadata": {},
   "source": [
    "The Jacobian is\n",
    "$$J = \\begin{bmatrix}\n",
    "a \\left(x^{2} + y^{2}\\right) + 2 x \\left(a x - y\\right) &\n",
    "- x^{2} - y^{2} + 2 y \\left(a x - y\\right) - 1 \\\\\n",
    "x^{2} + 2 x \\left(a y + x\\right) + y^{2} + 1 &\n",
    "a \\left(x^{2} + y^{2}\\right) + 2 y \\left(a y + x\\right)\n",
    "\\end{bmatrix}$$\n",
    "at the fixed points $(x,y) = (0,0)$\n",
    "$$J_{(0,0)} = \\begin{bmatrix} 0 & -1 \\\\ 1 & 0 \\end{bmatrix}$$"
   ]
  },
  {
   "cell_type": "code",
   "execution_count": 18,
   "metadata": {},
   "outputs": [
    {
     "data": {
      "text/plain": [
       "{-I: 1, I: 1}"
      ]
     },
     "execution_count": 18,
     "metadata": {},
     "output_type": "execute_result"
    }
   ],
   "source": [
    "sympy.Matrix([[0, -1],[1, 0]]).eigenvals()"
   ]
  },
  {
   "cell_type": "markdown",
   "metadata": {},
   "source": [
    "The Eigenvalues are $i$ and $-i$, from this we should gather, that the fixpoint is a center.\n",
    "### 1.2"
   ]
  },
  {
   "cell_type": "code",
   "execution_count": null,
   "metadata": {},
   "outputs": [],
   "source": [
    "x_dot.subs({x:, y:})"
   ]
  }
 ],
 "metadata": {
  "kernelspec": {
   "display_name": "Python 3.8.13 ('data_science')",
   "language": "python",
   "name": "python3"
  },
  "language_info": {
   "codemirror_mode": {
    "name": "ipython",
    "version": 3
   },
   "file_extension": ".py",
   "mimetype": "text/x-python",
   "name": "python",
   "nbconvert_exporter": "python",
   "pygments_lexer": "ipython3",
   "version": "3.8.13"
  },
  "orig_nbformat": 4,
  "vscode": {
   "interpreter": {
    "hash": "87c34b0be34f70c2eeb2a534953c7aaacd873a9ec0cd50555455b18ed4c41e3f"
   }
  }
 },
 "nbformat": 4,
 "nbformat_minor": 2
}
